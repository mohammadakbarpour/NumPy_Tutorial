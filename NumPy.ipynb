{
 "cells": [
  {
   "cell_type": "markdown",
   "id": "2b12985f",
   "metadata": {},
   "source": [
    "# NumPy Tutorial"
   ]
  },
  {
   "cell_type": "markdown",
   "id": "e8afc57e",
   "metadata": {},
   "source": [
    "----"
   ]
  },
  {
   "cell_type": "markdown",
   "id": "4f07d0e7",
   "metadata": {},
   "source": [
    "\n"
   ]
  },
  {
   "cell_type": "markdown",
   "id": "4e97b9bc",
   "metadata": {},
   "source": [
    "## NumPy Introduction"
   ]
  },
  {
   "cell_type": "markdown",
   "id": "1eab4e3f",
   "metadata": {},
   "source": [
    "NumPy is the **core library for scientific computing** in Python. The central object in the NumPy library is the NumPy array. The NumPy array is a **high-performance multidimensional array object**, which is designed specifically to perform math operations, **linear algebra**, and probability calculations. Using a NumPy array is usually a lot faster and needs less code than using a Python list. A huge part of the NumPy library consists of C code with the Python API serving as a wrapper around these C functions. This is one of the reasons why NumPy is so fast.\n",
    "\n"
   ]
  },
  {
   "cell_type": "markdown",
   "id": "58ce9afa",
   "metadata": {},
   "source": [
    "![numpy logo](https://www.freecodecamp.org/news/content/images/2020/07/numpy.png)"
   ]
  },
  {
   "cell_type": "markdown",
   "id": "5e1b64bb",
   "metadata": {},
   "source": [
    "  "
   ]
  },
  {
   "cell_type": "markdown",
   "id": "ecce1d0a",
   "metadata": {},
   "source": [
    "---"
   ]
  },
  {
   "cell_type": "markdown",
   "id": "001ebfc7",
   "metadata": {},
   "source": [
    "#### Table of contents\n",
    "1. Installing NumPy\n",
    "2. NumPy array\n",
    "3. Essential methods\n",
    "4. Multidimensional (nd) Arrays\n",
    "5. Reshaping\n",
    "6. Generating Arrays"
   ]
  },
  {
   "cell_type": "markdown",
   "id": "a9f5655c",
   "metadata": {},
   "source": [
    "---"
   ]
  },
  {
   "cell_type": "markdown",
   "id": "2c1a871b",
   "metadata": {},
   "source": [
    "  "
   ]
  },
  {
   "cell_type": "markdown",
   "id": "3037ac80",
   "metadata": {},
   "source": [
    "## 1. Installing NumPy"
   ]
  },
  {
   "cell_type": "markdown",
   "id": "d71f5fbc",
   "metadata": {},
   "source": [
    "The only prerequisite for installing NumPy is **Python** itself. If you don’t have Python yet and want the simplest way to get started, we recommend you use the [***Anaconda Distribution***](https://www.anaconda.com/distribution) - it includes Python, NumPy, and many other commonly used packages for scientific computing and data science.\n",
    "\n",
    "NumPy can be installed with *conda*, with *pip*, with a package manager on macOS and Linux, or from source."
   ]
  },
  {
   "cell_type": "markdown",
   "id": "eb74c401",
   "metadata": {},
   "source": [
    "\n",
    "### CONDA"
   ]
  },
  {
   "cell_type": "markdown",
   "id": "7e82ed7d",
   "metadata": {},
   "source": [
    "`conda create -n my-env\n",
    "conda activate my-env`\n",
    "\n",
    "`conda install numpy`"
   ]
  },
  {
   "cell_type": "markdown",
   "id": "8a18dd83",
   "metadata": {},
   "source": [
    "### PIP"
   ]
  },
  {
   "cell_type": "markdown",
   "id": "6aed85f4",
   "metadata": {},
   "source": [
    "`pip install numpy`"
   ]
  },
  {
   "cell_type": "markdown",
   "id": "68418811",
   "metadata": {},
   "source": [
    "### Import NumPy:"
   ]
  },
  {
   "cell_type": "code",
   "execution_count": 1,
   "id": "f92c350b",
   "metadata": {},
   "outputs": [],
   "source": [
    "import numpy as np"
   ]
  },
  {
   "cell_type": "code",
   "execution_count": 2,
   "id": "c261de08",
   "metadata": {},
   "outputs": [
    {
     "data": {
      "text/plain": [
       "'1.19.1'"
      ]
     },
     "execution_count": 2,
     "metadata": {},
     "output_type": "execute_result"
    }
   ],
   "source": [
    "#check version\n",
    "np.__version__"
   ]
  },
  {
   "cell_type": "markdown",
   "id": "fdf3c893",
   "metadata": {},
   "source": [
    "  "
   ]
  },
  {
   "cell_type": "markdown",
   "id": "820dd666",
   "metadata": {},
   "source": [
    "--- "
   ]
  },
  {
   "cell_type": "markdown",
   "id": "6cade0e5",
   "metadata": {},
   "source": [
    "  "
   ]
  },
  {
   "cell_type": "markdown",
   "id": "26d4b4f8",
   "metadata": {},
   "source": [
    "## 2. NumPy array"
   ]
  },
  {
   "cell_type": "code",
   "execution_count": 3,
   "id": "e3fc37a4",
   "metadata": {},
   "outputs": [],
   "source": [
    "a = np.array([1,2,3,4,5])"
   ]
  },
  {
   "cell_type": "code",
   "execution_count": 4,
   "id": "774b1a8c",
   "metadata": {},
   "outputs": [
    {
     "data": {
      "text/plain": [
       "array([1, 2, 3, 4, 5])"
      ]
     },
     "execution_count": 4,
     "metadata": {},
     "output_type": "execute_result"
    }
   ],
   "source": [
    "a"
   ]
  },
  {
   "cell_type": "code",
   "execution_count": 5,
   "id": "ad1a400e",
   "metadata": {},
   "outputs": [
    {
     "data": {
      "text/plain": [
       "(5,)"
      ]
     },
     "execution_count": 5,
     "metadata": {},
     "output_type": "execute_result"
    }
   ],
   "source": [
    "a.shape   # shape of the array"
   ]
  },
  {
   "cell_type": "code",
   "execution_count": 6,
   "id": "eb79c557",
   "metadata": {},
   "outputs": [
    {
     "data": {
      "text/plain": [
       "dtype('int64')"
      ]
     },
     "execution_count": 6,
     "metadata": {},
     "output_type": "execute_result"
    }
   ],
   "source": [
    "a.dtype   # type of the elements"
   ]
  },
  {
   "cell_type": "code",
   "execution_count": 7,
   "id": "5972520d",
   "metadata": {},
   "outputs": [
    {
     "data": {
      "text/plain": [
       "1"
      ]
     },
     "execution_count": 7,
     "metadata": {},
     "output_type": "execute_result"
    }
   ],
   "source": [
    "a.ndim    # number of dimensions"
   ]
  },
  {
   "cell_type": "code",
   "execution_count": 8,
   "id": "cb23b578",
   "metadata": {},
   "outputs": [
    {
     "data": {
      "text/plain": [
       "5"
      ]
     },
     "execution_count": 8,
     "metadata": {},
     "output_type": "execute_result"
    }
   ],
   "source": [
    "a.size    # total number of elements"
   ]
  },
  {
   "cell_type": "markdown",
   "id": "6501c0b1",
   "metadata": {},
   "source": [
    " "
   ]
  },
  {
   "cell_type": "markdown",
   "id": "08b0407b",
   "metadata": {},
   "source": [
    "---"
   ]
  },
  {
   "cell_type": "markdown",
   "id": "dc390c27",
   "metadata": {},
   "source": [
    "  "
   ]
  },
  {
   "cell_type": "markdown",
   "id": "02ce680b",
   "metadata": {},
   "source": [
    "## 3. Essential methods:"
   ]
  },
  {
   "cell_type": "code",
   "execution_count": 9,
   "id": "bb0e694f",
   "metadata": {},
   "outputs": [],
   "source": [
    "b = np.array([1,2,3])"
   ]
  },
  {
   "cell_type": "markdown",
   "id": "c90bc2ed",
   "metadata": {},
   "source": [
    "##### Access and change elements:"
   ]
  },
  {
   "cell_type": "code",
   "execution_count": 10,
   "id": "e45856a3",
   "metadata": {},
   "outputs": [
    {
     "data": {
      "text/plain": [
       "1"
      ]
     },
     "execution_count": 10,
     "metadata": {},
     "output_type": "execute_result"
    }
   ],
   "source": [
    "b[0]         # Access elements"
   ]
  },
  {
   "cell_type": "code",
   "execution_count": 11,
   "id": "55a7a358",
   "metadata": {},
   "outputs": [],
   "source": [
    "b[0] = 5     #change elements"
   ]
  },
  {
   "cell_type": "code",
   "execution_count": 12,
   "id": "1956e053",
   "metadata": {},
   "outputs": [
    {
     "data": {
      "text/plain": [
       "array([5, 2, 3])"
      ]
     },
     "execution_count": 12,
     "metadata": {},
     "output_type": "execute_result"
    }
   ],
   "source": [
    "b"
   ]
  },
  {
   "cell_type": "markdown",
   "id": "7ed3d58e",
   "metadata": {},
   "source": [
    "##### Elementwise math operations"
   ]
  },
  {
   "cell_type": "code",
   "execution_count": 13,
   "id": "28074322",
   "metadata": {},
   "outputs": [
    {
     "data": {
      "text/plain": [
       "array([10,  0,  6])"
      ]
     },
     "execution_count": 13,
     "metadata": {},
     "output_type": "execute_result"
    }
   ],
   "source": [
    "b * np.array([2,0,2])"
   ]
  },
  {
   "cell_type": "code",
   "execution_count": 14,
   "id": "4ec91065",
   "metadata": {},
   "outputs": [
    {
     "data": {
      "text/plain": [
       "10"
      ]
     },
     "execution_count": 14,
     "metadata": {},
     "output_type": "execute_result"
    }
   ],
   "source": [
    "b.sum()"
   ]
  },
  {
   "cell_type": "markdown",
   "id": "2c9dd180",
   "metadata": {},
   "source": [
    " "
   ]
  },
  {
   "cell_type": "markdown",
   "id": "d515cac0",
   "metadata": {},
   "source": [
    "---"
   ]
  },
  {
   "cell_type": "markdown",
   "id": "07e1f281",
   "metadata": {},
   "source": [
    " "
   ]
  },
  {
   "cell_type": "markdown",
   "id": "9a673b8a",
   "metadata": {},
   "source": [
    "## 4. Multidimensional (nd) Arrays"
   ]
  },
  {
   "cell_type": "code",
   "execution_count": 15,
   "id": "a6615633",
   "metadata": {},
   "outputs": [],
   "source": [
    "c = np.array([[1,2], [3,4]])"
   ]
  },
  {
   "cell_type": "code",
   "execution_count": 16,
   "id": "df31adbf",
   "metadata": {},
   "outputs": [
    {
     "data": {
      "text/plain": [
       "array([[1, 2],\n",
       "       [3, 4]])"
      ]
     },
     "execution_count": 16,
     "metadata": {},
     "output_type": "execute_result"
    }
   ],
   "source": [
    "c"
   ]
  },
  {
   "cell_type": "code",
   "execution_count": 17,
   "id": "7e9b22b4",
   "metadata": {},
   "outputs": [
    {
     "data": {
      "text/plain": [
       "(2, 2)"
      ]
     },
     "execution_count": 17,
     "metadata": {},
     "output_type": "execute_result"
    }
   ],
   "source": [
    "c.shape"
   ]
  },
  {
   "cell_type": "markdown",
   "id": "904a73bf",
   "metadata": {},
   "source": [
    "##### Access elements"
   ]
  },
  {
   "cell_type": "code",
   "execution_count": 18,
   "id": "fe738ed6",
   "metadata": {},
   "outputs": [
    {
     "data": {
      "text/plain": [
       "array([1, 2])"
      ]
     },
     "execution_count": 18,
     "metadata": {},
     "output_type": "execute_result"
    }
   ],
   "source": [
    "c[0]"
   ]
  },
  {
   "cell_type": "code",
   "execution_count": 19,
   "id": "6dea89b4",
   "metadata": {},
   "outputs": [
    {
     "data": {
      "text/plain": [
       "1"
      ]
     },
     "execution_count": 19,
     "metadata": {},
     "output_type": "execute_result"
    }
   ],
   "source": [
    "c[0,0]   # row first, then columns"
   ]
  },
  {
   "cell_type": "markdown",
   "id": "09226a4c",
   "metadata": {},
   "source": [
    "##### Transpose "
   ]
  },
  {
   "cell_type": "code",
   "execution_count": 20,
   "id": "ad9c8255",
   "metadata": {},
   "outputs": [
    {
     "data": {
      "text/plain": [
       "array([[1, 3],\n",
       "       [2, 4]])"
      ]
     },
     "execution_count": 20,
     "metadata": {},
     "output_type": "execute_result"
    }
   ],
   "source": [
    "c.T"
   ]
  },
  {
   "cell_type": "markdown",
   "id": "36e6888c",
   "metadata": {},
   "source": [
    "![transpose](transpose1.png)"
   ]
  },
  {
   "cell_type": "markdown",
   "id": "5cafa116",
   "metadata": {},
   "source": [
    " "
   ]
  },
  {
   "cell_type": "markdown",
   "id": "36d85f12",
   "metadata": {},
   "source": [
    "---"
   ]
  },
  {
   "cell_type": "markdown",
   "id": "6a216859",
   "metadata": {},
   "source": [
    " "
   ]
  },
  {
   "cell_type": "markdown",
   "id": "c89947b2",
   "metadata": {},
   "source": [
    "##### Matrix multiplication"
   ]
  },
  {
   "cell_type": "markdown",
   "id": "8d3ab199",
   "metadata": {},
   "source": [
    "![DotProductVsElementWise](DotProductVsElementWise2.jpg)"
   ]
  },
  {
   "cell_type": "code",
   "execution_count": 21,
   "id": "af613adf",
   "metadata": {},
   "outputs": [
    {
     "data": {
      "text/plain": [
       "array([[1, 2],\n",
       "       [3, 4]])"
      ]
     },
     "execution_count": 21,
     "metadata": {},
     "output_type": "execute_result"
    }
   ],
   "source": [
    "a = np.array([[1,2], [3,4]])\n",
    "a"
   ]
  },
  {
   "cell_type": "code",
   "execution_count": 22,
   "id": "9f3b86f6",
   "metadata": {},
   "outputs": [
    {
     "data": {
      "text/plain": [
       "array([[3, 4],\n",
       "       [5, 6]])"
      ]
     },
     "execution_count": 22,
     "metadata": {},
     "output_type": "execute_result"
    }
   ],
   "source": [
    "b = np.array([[3, 4], [5,6]])\n",
    "b"
   ]
  },
  {
   "cell_type": "code",
   "execution_count": 23,
   "id": "19f45b7b",
   "metadata": {},
   "outputs": [
    {
     "data": {
      "text/plain": [
       "array([[ 3,  8],\n",
       "       [15, 24]])"
      ]
     },
     "execution_count": 23,
     "metadata": {},
     "output_type": "execute_result"
    }
   ],
   "source": [
    "a * b        # elementwise multiplication"
   ]
  },
  {
   "cell_type": "code",
   "execution_count": 24,
   "id": "01bb6a98",
   "metadata": {},
   "outputs": [
    {
     "data": {
      "text/plain": [
       "array([[13, 16],\n",
       "       [29, 36]])"
      ]
     },
     "execution_count": 24,
     "metadata": {},
     "output_type": "execute_result"
    }
   ],
   "source": [
    "a.dot(b)     # dot product - inner dimensions must match"
   ]
  },
  {
   "cell_type": "markdown",
   "id": "039e2e87",
   "metadata": {},
   "source": [
    "##### Determinant"
   ]
  },
  {
   "cell_type": "code",
   "execution_count": 25,
   "id": "0e43408d",
   "metadata": {},
   "outputs": [
    {
     "data": {
      "text/plain": [
       "-2.0000000000000004"
      ]
     },
     "execution_count": 25,
     "metadata": {},
     "output_type": "execute_result"
    }
   ],
   "source": [
    "np.linalg.det(a)"
   ]
  },
  {
   "cell_type": "markdown",
   "id": "ce4fb6d2",
   "metadata": {},
   "source": [
    "##### Inverse"
   ]
  },
  {
   "cell_type": "code",
   "execution_count": 26,
   "id": "dba7a426",
   "metadata": {},
   "outputs": [
    {
     "data": {
      "text/plain": [
       "array([[-2. ,  1. ],\n",
       "       [ 1.5, -0.5]])"
      ]
     },
     "execution_count": 26,
     "metadata": {},
     "output_type": "execute_result"
    }
   ],
   "source": [
    "np.linalg.inv(a)"
   ]
  },
  {
   "cell_type": "markdown",
   "id": "6cdbc3bc",
   "metadata": {},
   "source": [
    " "
   ]
  },
  {
   "cell_type": "markdown",
   "id": "891c4542",
   "metadata": {},
   "source": [
    "---"
   ]
  },
  {
   "cell_type": "markdown",
   "id": "efc748c7",
   "metadata": {},
   "source": [
    " "
   ]
  },
  {
   "cell_type": "markdown",
   "id": "20ac1fe3",
   "metadata": {},
   "source": [
    "## 5. Reshaping"
   ]
  },
  {
   "cell_type": "code",
   "execution_count": 27,
   "id": "9305f15d",
   "metadata": {},
   "outputs": [
    {
     "data": {
      "text/plain": [
       "array([1, 2, 3, 4, 5, 6])"
      ]
     },
     "execution_count": 27,
     "metadata": {},
     "output_type": "execute_result"
    }
   ],
   "source": [
    "a = np.arange(1, 7)\n",
    "a"
   ]
  },
  {
   "cell_type": "code",
   "execution_count": 28,
   "id": "fdc7619f",
   "metadata": {},
   "outputs": [
    {
     "data": {
      "text/plain": [
       "array([[1, 2, 3],\n",
       "       [4, 5, 6]])"
      ]
     },
     "execution_count": 28,
     "metadata": {},
     "output_type": "execute_result"
    }
   ],
   "source": [
    "a.reshape((2, 3))"
   ]
  },
  {
   "cell_type": "code",
   "execution_count": 29,
   "id": "a44a54c0",
   "metadata": {
    "scrolled": true
   },
   "outputs": [
    {
     "ename": "ValueError",
     "evalue": "cannot reshape array of size 6 into shape (2,4)",
     "output_type": "error",
     "traceback": [
      "\u001b[0;31m---------------------------------------------------------------------------\u001b[0m",
      "\u001b[0;31mValueError\u001b[0m                                Traceback (most recent call last)",
      "\u001b[0;32m<ipython-input-29-2710a984ad99>\u001b[0m in \u001b[0;36m<module>\u001b[0;34m\u001b[0m\n\u001b[0;32m----> 1\u001b[0;31m \u001b[0ma\u001b[0m\u001b[0;34m.\u001b[0m\u001b[0mreshape\u001b[0m\u001b[0;34m(\u001b[0m\u001b[0;34m(\u001b[0m\u001b[0;36m2\u001b[0m\u001b[0;34m,\u001b[0m \u001b[0;36m4\u001b[0m\u001b[0;34m)\u001b[0m\u001b[0;34m)\u001b[0m     \u001b[0;31m# error if shape cannot be used\u001b[0m\u001b[0;34m\u001b[0m\u001b[0;34m\u001b[0m\u001b[0m\n\u001b[0m",
      "\u001b[0;31mValueError\u001b[0m: cannot reshape array of size 6 into shape (2,4)"
     ]
    }
   ],
   "source": [
    "a.reshape((2, 4))     # error if shape cannot be used"
   ]
  },
  {
   "cell_type": "markdown",
   "id": "8f975c35",
   "metadata": {},
   "source": [
    " "
   ]
  },
  {
   "cell_type": "markdown",
   "id": "0b93b63e",
   "metadata": {},
   "source": [
    "---"
   ]
  },
  {
   "cell_type": "markdown",
   "id": "e3993863",
   "metadata": {},
   "source": [
    " "
   ]
  },
  {
   "cell_type": "markdown",
   "id": "47ac54d1",
   "metadata": {},
   "source": [
    "## 6. Generating Arrays"
   ]
  },
  {
   "cell_type": "markdown",
   "id": "34199b9a",
   "metadata": {},
   "source": [
    "##### zeros"
   ]
  },
  {
   "cell_type": "code",
   "execution_count": 30,
   "id": "53871c65",
   "metadata": {},
   "outputs": [
    {
     "data": {
      "text/plain": [
       "array([[0., 0., 0.],\n",
       "       [0., 0., 0.]])"
      ]
     },
     "execution_count": 30,
     "metadata": {},
     "output_type": "execute_result"
    }
   ],
   "source": [
    "np.zeros((2,3))     # size as tuple"
   ]
  },
  {
   "cell_type": "markdown",
   "id": "2158ebdd",
   "metadata": {},
   "source": [
    "##### ones"
   ]
  },
  {
   "cell_type": "code",
   "execution_count": 31,
   "id": "db27648b",
   "metadata": {},
   "outputs": [
    {
     "data": {
      "text/plain": [
       "array([[1., 1., 1.],\n",
       "       [1., 1., 1.]])"
      ]
     },
     "execution_count": 31,
     "metadata": {},
     "output_type": "execute_result"
    }
   ],
   "source": [
    "np.ones((2,3))"
   ]
  },
  {
   "cell_type": "markdown",
   "id": "fd938811",
   "metadata": {},
   "source": [
    "##### Specific value"
   ]
  },
  {
   "cell_type": "code",
   "execution_count": 32,
   "id": "a691d469",
   "metadata": {},
   "outputs": [
    {
     "data": {
      "text/plain": [
       "array([[5., 5., 5.],\n",
       "       [5., 5., 5.],\n",
       "       [5., 5., 5.]])"
      ]
     },
     "execution_count": 32,
     "metadata": {},
     "output_type": "execute_result"
    }
   ],
   "source": [
    "np.full((3,3),5.0)"
   ]
  },
  {
   "cell_type": "markdown",
   "id": "c7e23b91",
   "metadata": {},
   "source": [
    "##### Arange"
   ]
  },
  {
   "cell_type": "code",
   "execution_count": 33,
   "id": "59ea1160",
   "metadata": {},
   "outputs": [
    {
     "data": {
      "text/plain": [
       "array([0, 1, 2, 3, 4, 5, 6, 7, 8, 9])"
      ]
     },
     "execution_count": 33,
     "metadata": {},
     "output_type": "execute_result"
    }
   ],
   "source": [
    "np.arange(10)"
   ]
  },
  {
   "cell_type": "markdown",
   "id": "d96b454a",
   "metadata": {},
   "source": [
    "##### Linspace"
   ]
  },
  {
   "cell_type": "code",
   "execution_count": 34,
   "id": "a8eb9b79",
   "metadata": {},
   "outputs": [
    {
     "data": {
      "text/plain": [
       "array([ 0. ,  2.5,  5. ,  7.5, 10. ])"
      ]
     },
     "execution_count": 34,
     "metadata": {},
     "output_type": "execute_result"
    }
   ],
   "source": [
    "np.linspace(0, 10, 5)"
   ]
  },
  {
   "cell_type": "markdown",
   "id": "581bab00",
   "metadata": {},
   "source": [
    "---"
   ]
  },
  {
   "cell_type": "markdown",
   "id": "6f1d096b",
   "metadata": {},
   "source": [
    "---"
   ]
  },
  {
   "cell_type": "markdown",
   "id": "12bbd144",
   "metadata": {},
   "source": [
    "# Thanks!\n",
    "#### FOR YOUR ATTENTION"
   ]
  }
 ],
 "metadata": {
  "kernelspec": {
   "display_name": "Python 3",
   "language": "python",
   "name": "python3"
  },
  "language_info": {
   "codemirror_mode": {
    "name": "ipython",
    "version": 3
   },
   "file_extension": ".py",
   "mimetype": "text/x-python",
   "name": "python",
   "nbconvert_exporter": "python",
   "pygments_lexer": "ipython3",
   "version": "3.7.10"
  }
 },
 "nbformat": 4,
 "nbformat_minor": 5
}
